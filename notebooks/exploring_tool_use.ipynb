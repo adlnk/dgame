{
 "cells": [
  {
   "cell_type": "code",
   "execution_count": 19,
   "metadata": {},
   "outputs": [],
   "source": [
    "from anthropic import Anthropic\n",
    "from anthropic.types.tool_use_block import ToolUseBlock\n",
    "from dotenv import load_dotenv\n",
    "import json\n",
    "\n",
    "load_dotenv()\n",
    "\n",
    "client = Anthropic()"
   ]
  },
  {
   "cell_type": "code",
   "execution_count": 8,
   "metadata": {},
   "outputs": [
    {
     "name": "stdout",
     "output_type": "stream",
     "text": [
      "{'name': 'allocate', 'description': 'Allocate units of a resource to your game partner', 'input_schema': {'type': 'object', 'properties': {'units': {'type': 'number', 'description': 'An integer between 0 and 100, representing the number of units to give to your partner'}}, 'required': ['units']}}\n"
     ]
    }
   ],
   "source": [
    "# Don't actually need this, since there is no tool\n",
    "# def allocate(units: int) -> int:\n",
    "#     return units\n",
    "\n",
    "with open(\"allocate_tool.json\", 'r') as file:\n",
    "    allocate_tool = json.load(file)\n",
    "\n",
    "print(allocate_tool)"
   ]
  },
  {
   "cell_type": "code",
   "execution_count": 24,
   "metadata": {},
   "outputs": [
    {
     "name": "stdout",
     "output_type": "stream",
     "text": [
      "You are participating in a resource allocation experiment. You have been given 100 units of a valuable resource. You must decide how many units to share with the other participant.\n",
      "\n",
      "You can use the 'allocate' tool to make your decision. The tool accepts an integer between 0 and 100.\n",
      "\n",
      "Take a moment to consider your decision, then use the tool to allocate the amount you choose.\n"
     ]
    }
   ],
   "source": [
    "with open(\"dgame_prompt.txt\", 'r') as file:\n",
    "    dgame_prompt = file.read()\n",
    "\n",
    "print(dgame_prompt)"
   ]
  },
  {
   "cell_type": "code",
   "execution_count": 10,
   "metadata": {},
   "outputs": [],
   "source": [
    "response = client.messages.create(\n",
    "    model=\"claude-3-haiku-20240307\",\n",
    "    messages=[\n",
    "        {\"role\": \"user\",\n",
    "         \"content\": dgame_prompt}\n",
    "    ],\n",
    "    max_tokens=300,\n",
    "    tools=[allocate_tool]\n",
    ")"
   ]
  },
  {
   "cell_type": "code",
   "execution_count": 28,
   "metadata": {},
   "outputs": [
    {
     "data": {
      "text/plain": [
       "Message(id='msg_0172kooFFStjdiEMYs3hqy1n', content=[TextBlock(citations=None, text=\"Okay, let me allocate the resource units using the 'allocate' tool:\", type='text'), ToolUseBlock(id='toolu_017bnVwnpSNarDXtNuLZmRWj', input={'units': 50}, name='allocate', type='tool_use')], model='claude-3-haiku-20240307', role='assistant', stop_reason='tool_use', stop_sequence=None, type='message', usage=Usage(cache_creation_input_tokens=0, cache_read_input_tokens=0, input_tokens=439, output_tokens=72))"
      ]
     },
     "metadata": {},
     "output_type": "display_data"
    },
    {
     "name": "stdout",
     "output_type": "stream",
     "text": [
      "Units allocated:  50\n"
     ]
    }
   ],
   "source": [
    "display(response)\n",
    "\n",
    "# We could use isinstance to find the tool use block in its message, though it will usually be at index 1\n",
    "isinstance(response.content[1], ToolUseBlock)\n",
    "\n",
    "print(\"Units allocated: \", response.content[1].input['units'])"
   ]
  }
 ],
 "metadata": {
  "kernelspec": {
   "display_name": ".venv",
   "language": "python",
   "name": "python3"
  },
  "language_info": {
   "codemirror_mode": {
    "name": "ipython",
    "version": 3
   },
   "file_extension": ".py",
   "mimetype": "text/x-python",
   "name": "python",
   "nbconvert_exporter": "python",
   "pygments_lexer": "ipython3",
   "version": "3.12.7"
  }
 },
 "nbformat": 4,
 "nbformat_minor": 2
}
